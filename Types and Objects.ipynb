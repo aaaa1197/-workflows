{
  "cells": [
    {
      "cell_type": "markdown",
      "metadata": {
        "id": "view-in-github",
        "colab_type": "text"
      },
      "source": [
        "<a href=\"https://colab.research.google.com/github/aaaa1197/-workflows/blob/main/Types%20and%20Objects.ipynb\" target=\"_parent\"><img src=\"https://colab.research.google.com/assets/colab-badge.svg\" alt=\"Open In Colab\"/></a>"
      ]
    },
    {
      "cell_type": "markdown",
      "metadata": {
        "id": "dDl9A8u7IkBw"
      },
      "source": [
        "# Types and Objects\n",
        "\n",
        "Before progressing to talking about how we use object-oriented programming in Python, we must cover a little theory and make some key definitions. These definitions will underpin the rest of the discussions in this workshop.\n",
        "\n",
        "In Python, everything is an object. An object is an instance of a \"type\", which may be thought of as a template for a particular piece of information or group of bits of information.  We may find out the type of an object using the ```type``` function:"
      ]
    },
    {
      "cell_type": "code",
      "execution_count": 1,
      "metadata": {
        "id": "HFcpJBWVekik",
        "outputId": "459f88b3-e7f6-4528-9f5c-47d466c43b36",
        "colab": {
          "base_uri": "https://localhost:8080/"
        }
      },
      "outputs": [
        {
          "output_type": "stream",
          "name": "stdout",
          "text": [
            "<class 'float'>\n"
          ]
        }
      ],
      "source": [
        "print(type(3.14))"
      ]
    },
    {
      "cell_type": "code",
      "execution_count": null,
      "metadata": {
        "id": "r3GZ4mfNelvq"
      },
      "outputs": [],
      "source": [
        "a = 2\n",
        "print(type(a))"
      ]
    },
    {
      "cell_type": "code",
      "execution_count": null,
      "metadata": {
        "id": "HrjwLV3ienBf"
      },
      "outputs": [],
      "source": [
        "print(type(False))"
      ]
    },
    {
      "cell_type": "code",
      "execution_count": null,
      "metadata": {
        "id": "khd9lWCCeoPh"
      },
      "outputs": [],
      "source": [
        "print(type(print))"
      ]
    },
    {
      "cell_type": "code",
      "execution_count": null,
      "metadata": {
        "id": "-3GIrXeNepZP"
      },
      "outputs": [],
      "source": [
        "def sample_function():\n",
        "  print(\"Sample\")\n",
        "\n",
        "print(type(sample_function))"
      ]
    },
    {
      "cell_type": "code",
      "execution_count": null,
      "metadata": {
        "id": "KoN6e3hbIcKW"
      },
      "outputs": [],
      "source": [
        "print(type(int))"
      ]
    },
    {
      "cell_type": "markdown",
      "metadata": {
        "id": "j9Ecu0v3M7tv"
      },
      "source": [
        "As you can see, not only different values may be examples of different types, but functions, such as the ```print``` function and a user-defined function are also an examples of types.\n",
        "\n",
        "You may think of a type as a blueprint for a particular arrangement of data, although a type does not contain any data itself. The ```int``` type is a blueprint for the information required to define a whole number, but the variable ```a``` in the code segment above is an object of the ```int``` type with data which represents the value 2.\n",
        "\n",
        "An object of a certain type is sometimes referred to as an \"instance\" of the that type.\n",
        "\n",
        "It is worth noting that the word \"class\" is almost interchangeable with the word \"type\" in modern Python, although their meanings differed more in earlier versions of the language."
      ]
    }
  ],
  "metadata": {
    "colab": {
      "name": "Types and Objects.ipynb",
      "provenance": [],
      "include_colab_link": true
    },
    "kernelspec": {
      "display_name": "Python 3",
      "language": "python",
      "name": "python3"
    },
    "language_info": {
      "codemirror_mode": {
        "name": "ipython",
        "version": 3
      },
      "file_extension": ".py",
      "mimetype": "text/x-python",
      "name": "python",
      "nbconvert_exporter": "python",
      "pygments_lexer": "ipython3",
      "version": "3.8.5"
    }
  },
  "nbformat": 4,
  "nbformat_minor": 0
}